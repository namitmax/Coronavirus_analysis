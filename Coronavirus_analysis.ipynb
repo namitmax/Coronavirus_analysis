{
 "cells": [
  {
   "cell_type": "code",
   "execution_count": 1,
   "metadata": {},
   "outputs": [],
   "source": [
    "import numpy as np\n",
    "import matplotlib.pyplot as plt\n",
    "import seaborn as sns\n",
    "import pandas as pd\n",
    "from scipy import stats\n",
    "from scipy.stats import  kstest\n",
    "from statsmodels.tsa.arima_model import ARIMA\n",
    "from sklearn.metrics import mean_squared_error\n",
    "from math import sqrt\n",
    "import warnings"
   ]
  },
  {
   "cell_type": "markdown",
   "metadata": {},
   "source": [
    "## Датасет"
   ]
  },
  {
   "cell_type": "markdown",
   "metadata": {},
   "source": [
    "https://www.kaggle.com/sudalairajkumar/novel-corona-virus-2019-dataset - набор данных о коронавирусе"
   ]
  },
  {
   "cell_type": "markdown",
   "metadata": {},
   "source": [
    "## Первичный анализ   и предобработка данных"
   ]
  },
  {
   "cell_type": "markdown",
   "metadata": {},
   "source": [
    "#### Постановка задачи.\n",
    "\n",
    "Данная работа будет посвящена исследованию поведения коронавируса в восточных странах. Основными целями является изучение длительности инкубационного периода в Китае и в остальных странах востока, а также построение временного ряда, предсказывающего количество новых случаев заболевания."
   ]
  },
  {
   "cell_type": "code",
   "execution_count": 2,
   "metadata": {},
   "outputs": [
    {
     "data": {
      "text/html": [
       "<div>\n",
       "<style scoped>\n",
       "    .dataframe tbody tr th:only-of-type {\n",
       "        vertical-align: middle;\n",
       "    }\n",
       "\n",
       "    .dataframe tbody tr th {\n",
       "        vertical-align: top;\n",
       "    }\n",
       "\n",
       "    .dataframe thead th {\n",
       "        text-align: right;\n",
       "    }\n",
       "</style>\n",
       "<table border=\"1\" class=\"dataframe\">\n",
       "  <thead>\n",
       "    <tr style=\"text-align: right;\">\n",
       "      <th></th>\n",
       "      <th>id</th>\n",
       "      <th>case_in_country</th>\n",
       "      <th>reporting date</th>\n",
       "      <th>Unnamed: 3</th>\n",
       "      <th>summary</th>\n",
       "      <th>location</th>\n",
       "      <th>country</th>\n",
       "      <th>gender</th>\n",
       "      <th>age</th>\n",
       "      <th>symptom_onset</th>\n",
       "      <th>...</th>\n",
       "      <th>recovered</th>\n",
       "      <th>symptom</th>\n",
       "      <th>source</th>\n",
       "      <th>link</th>\n",
       "      <th>Unnamed: 21</th>\n",
       "      <th>Unnamed: 22</th>\n",
       "      <th>Unnamed: 23</th>\n",
       "      <th>Unnamed: 24</th>\n",
       "      <th>Unnamed: 25</th>\n",
       "      <th>Unnamed: 26</th>\n",
       "    </tr>\n",
       "  </thead>\n",
       "  <tbody>\n",
       "    <tr>\n",
       "      <th>0</th>\n",
       "      <td>1</td>\n",
       "      <td>NaN</td>\n",
       "      <td>1/20/2020</td>\n",
       "      <td>NaN</td>\n",
       "      <td>First confirmed imported COVID-19 pneumonia pa...</td>\n",
       "      <td>Shenzhen, Guangdong</td>\n",
       "      <td>China</td>\n",
       "      <td>male</td>\n",
       "      <td>66.0</td>\n",
       "      <td>01/03/20</td>\n",
       "      <td>...</td>\n",
       "      <td>0</td>\n",
       "      <td>NaN</td>\n",
       "      <td>Shenzhen Municipal Health Commission</td>\n",
       "      <td>http://wjw.sz.gov.cn/wzx/202001/t20200120_1898...</td>\n",
       "      <td>NaN</td>\n",
       "      <td>NaN</td>\n",
       "      <td>NaN</td>\n",
       "      <td>NaN</td>\n",
       "      <td>NaN</td>\n",
       "      <td>NaN</td>\n",
       "    </tr>\n",
       "    <tr>\n",
       "      <th>1</th>\n",
       "      <td>2</td>\n",
       "      <td>NaN</td>\n",
       "      <td>1/20/2020</td>\n",
       "      <td>NaN</td>\n",
       "      <td>First confirmed imported COVID-19 pneumonia pa...</td>\n",
       "      <td>Shanghai</td>\n",
       "      <td>China</td>\n",
       "      <td>female</td>\n",
       "      <td>56.0</td>\n",
       "      <td>1/15/2020</td>\n",
       "      <td>...</td>\n",
       "      <td>0</td>\n",
       "      <td>NaN</td>\n",
       "      <td>Official Weibo of Shanghai Municipal Health Co...</td>\n",
       "      <td>https://www.weibo.com/2372649470/IqogQhgfa?fro...</td>\n",
       "      <td>NaN</td>\n",
       "      <td>NaN</td>\n",
       "      <td>NaN</td>\n",
       "      <td>NaN</td>\n",
       "      <td>NaN</td>\n",
       "      <td>NaN</td>\n",
       "    </tr>\n",
       "    <tr>\n",
       "      <th>2</th>\n",
       "      <td>3</td>\n",
       "      <td>NaN</td>\n",
       "      <td>1/21/2020</td>\n",
       "      <td>NaN</td>\n",
       "      <td>First confirmed imported cases in Zhejiang: pa...</td>\n",
       "      <td>Zhejiang</td>\n",
       "      <td>China</td>\n",
       "      <td>male</td>\n",
       "      <td>46.0</td>\n",
       "      <td>01/04/20</td>\n",
       "      <td>...</td>\n",
       "      <td>0</td>\n",
       "      <td>NaN</td>\n",
       "      <td>Health Commission of Zhejiang Province</td>\n",
       "      <td>http://www.zjwjw.gov.cn/art/2020/1/21/art_1202...</td>\n",
       "      <td>NaN</td>\n",
       "      <td>NaN</td>\n",
       "      <td>NaN</td>\n",
       "      <td>NaN</td>\n",
       "      <td>NaN</td>\n",
       "      <td>NaN</td>\n",
       "    </tr>\n",
       "    <tr>\n",
       "      <th>3</th>\n",
       "      <td>4</td>\n",
       "      <td>NaN</td>\n",
       "      <td>1/21/2020</td>\n",
       "      <td>NaN</td>\n",
       "      <td>new confirmed imported COVID-19 pneumonia in T...</td>\n",
       "      <td>Tianjin</td>\n",
       "      <td>China</td>\n",
       "      <td>female</td>\n",
       "      <td>60.0</td>\n",
       "      <td>NaN</td>\n",
       "      <td>...</td>\n",
       "      <td>0</td>\n",
       "      <td>NaN</td>\n",
       "      <td>人民日报官方微博</td>\n",
       "      <td>https://m.weibo.cn/status/4463235401268457?</td>\n",
       "      <td>NaN</td>\n",
       "      <td>NaN</td>\n",
       "      <td>NaN</td>\n",
       "      <td>NaN</td>\n",
       "      <td>NaN</td>\n",
       "      <td>NaN</td>\n",
       "    </tr>\n",
       "    <tr>\n",
       "      <th>4</th>\n",
       "      <td>5</td>\n",
       "      <td>NaN</td>\n",
       "      <td>1/21/2020</td>\n",
       "      <td>NaN</td>\n",
       "      <td>new confirmed imported COVID-19 pneumonia in T...</td>\n",
       "      <td>Tianjin</td>\n",
       "      <td>China</td>\n",
       "      <td>male</td>\n",
       "      <td>58.0</td>\n",
       "      <td>NaN</td>\n",
       "      <td>...</td>\n",
       "      <td>0</td>\n",
       "      <td>NaN</td>\n",
       "      <td>人民日报官方微博</td>\n",
       "      <td>https://m.weibo.cn/status/4463235401268457?</td>\n",
       "      <td>NaN</td>\n",
       "      <td>NaN</td>\n",
       "      <td>NaN</td>\n",
       "      <td>NaN</td>\n",
       "      <td>NaN</td>\n",
       "      <td>NaN</td>\n",
       "    </tr>\n",
       "  </tbody>\n",
       "</table>\n",
       "<p>5 rows × 27 columns</p>\n",
       "</div>"
      ],
      "text/plain": [
       "   id  case_in_country reporting date  Unnamed: 3  \\\n",
       "0   1              NaN      1/20/2020         NaN   \n",
       "1   2              NaN      1/20/2020         NaN   \n",
       "2   3              NaN      1/21/2020         NaN   \n",
       "3   4              NaN      1/21/2020         NaN   \n",
       "4   5              NaN      1/21/2020         NaN   \n",
       "\n",
       "                                             summary             location  \\\n",
       "0  First confirmed imported COVID-19 pneumonia pa...  Shenzhen, Guangdong   \n",
       "1  First confirmed imported COVID-19 pneumonia pa...             Shanghai   \n",
       "2  First confirmed imported cases in Zhejiang: pa...             Zhejiang   \n",
       "3  new confirmed imported COVID-19 pneumonia in T...              Tianjin   \n",
       "4  new confirmed imported COVID-19 pneumonia in T...              Tianjin   \n",
       "\n",
       "  country  gender   age symptom_onset  ...  recovered symptom  \\\n",
       "0   China    male  66.0      01/03/20  ...          0     NaN   \n",
       "1   China  female  56.0     1/15/2020  ...          0     NaN   \n",
       "2   China    male  46.0      01/04/20  ...          0     NaN   \n",
       "3   China  female  60.0           NaN  ...          0     NaN   \n",
       "4   China    male  58.0           NaN  ...          0     NaN   \n",
       "\n",
       "                                              source  \\\n",
       "0               Shenzhen Municipal Health Commission   \n",
       "1  Official Weibo of Shanghai Municipal Health Co...   \n",
       "2             Health Commission of Zhejiang Province   \n",
       "3                                           人民日报官方微博   \n",
       "4                                           人民日报官方微博   \n",
       "\n",
       "                                                link  Unnamed: 21  \\\n",
       "0  http://wjw.sz.gov.cn/wzx/202001/t20200120_1898...          NaN   \n",
       "1  https://www.weibo.com/2372649470/IqogQhgfa?fro...          NaN   \n",
       "2  http://www.zjwjw.gov.cn/art/2020/1/21/art_1202...          NaN   \n",
       "3        https://m.weibo.cn/status/4463235401268457?          NaN   \n",
       "4        https://m.weibo.cn/status/4463235401268457?          NaN   \n",
       "\n",
       "   Unnamed: 22 Unnamed: 23 Unnamed: 24 Unnamed: 25 Unnamed: 26  \n",
       "0          NaN         NaN         NaN         NaN         NaN  \n",
       "1          NaN         NaN         NaN         NaN         NaN  \n",
       "2          NaN         NaN         NaN         NaN         NaN  \n",
       "3          NaN         NaN         NaN         NaN         NaN  \n",
       "4          NaN         NaN         NaN         NaN         NaN  \n",
       "\n",
       "[5 rows x 27 columns]"
      ]
     },
     "execution_count": 2,
     "metadata": {},
     "output_type": "execute_result"
    }
   ],
   "source": [
    "data = pd.read_csv(\"COVID19_line_list_data.csv\")\n",
    "data.head()"
   ]
  },
  {
   "cell_type": "code",
   "execution_count": 3,
   "metadata": {},
   "outputs": [
    {
     "name": "stdout",
     "output_type": "stream",
     "text": [
      "<class 'pandas.core.frame.DataFrame'>\n",
      "RangeIndex: 1085 entries, 0 to 1084\n",
      "Data columns (total 27 columns):\n",
      " #   Column                 Non-Null Count  Dtype  \n",
      "---  ------                 --------------  -----  \n",
      " 0   id                     1085 non-null   int64  \n",
      " 1   case_in_country        888 non-null    float64\n",
      " 2   reporting date         1084 non-null   object \n",
      " 3   Unnamed: 3             0 non-null      float64\n",
      " 4   summary                1080 non-null   object \n",
      " 5   location               1085 non-null   object \n",
      " 6   country                1085 non-null   object \n",
      " 7   gender                 902 non-null    object \n",
      " 8   age                    843 non-null    float64\n",
      " 9   symptom_onset          563 non-null    object \n",
      " 10  If_onset_approximated  560 non-null    float64\n",
      " 11  hosp_visit_date        507 non-null    object \n",
      " 12  exposure_start         128 non-null    object \n",
      " 13  exposure_end           341 non-null    object \n",
      " 14  visiting Wuhan         1085 non-null   int64  \n",
      " 15  from Wuhan             1081 non-null   float64\n",
      " 16  death                  1085 non-null   object \n",
      " 17  recovered              1085 non-null   object \n",
      " 18  symptom                270 non-null    object \n",
      " 19  source                 1085 non-null   object \n",
      " 20  link                   1085 non-null   object \n",
      " 21  Unnamed: 21            0 non-null      float64\n",
      " 22  Unnamed: 22            0 non-null      float64\n",
      " 23  Unnamed: 23            0 non-null      float64\n",
      " 24  Unnamed: 24            0 non-null      float64\n",
      " 25  Unnamed: 25            0 non-null      float64\n",
      " 26  Unnamed: 26            0 non-null      float64\n",
      "dtypes: float64(11), int64(2), object(14)\n",
      "memory usage: 229.0+ KB\n"
     ]
    }
   ],
   "source": [
    "data.info()"
   ]
  },
  {
   "cell_type": "markdown",
   "metadata": {},
   "source": [
    "Колонки Unnamed, Id явно никакой информации не несут - избавимся от них."
   ]
  },
  {
   "cell_type": "code",
   "execution_count": 4,
   "metadata": {},
   "outputs": [],
   "source": [
    "data.drop(['Unnamed: 3', 'Unnamed: 21', 'Unnamed: 22', 'Unnamed: 23', \n",
    "           'Unnamed: 24', 'Unnamed: 25', 'Unnamed: 26', 'id'],\n",
    "          axis = 1, inplace =True)"
   ]
  },
  {
   "cell_type": "markdown",
   "metadata": {},
   "source": [
    "Источник и ссылка нам не понядобятся в нашем исследовании. Источник не так важен так как данные о месте содержатся в других колонках. Также выбросим описание - возможно там есть интересная информация, но, обработка текста - весьма нетривиальная задача, достойная отдельного проекта. "
   ]
  },
  {
   "cell_type": "code",
   "execution_count": 5,
   "metadata": {},
   "outputs": [],
   "source": [
    "data.drop(['link', 'source', 'summary'], axis = 1, inplace = True)"
   ]
  },
  {
   "cell_type": "markdown",
   "metadata": {},
   "source": [
    "Полю if_onset_approximated я не смог найти логического объяснения, поэтому также убираем его"
   ]
  },
  {
   "cell_type": "code",
   "execution_count": 6,
   "metadata": {},
   "outputs": [],
   "source": [
    "data.drop(['If_onset_approximated'], axis = 1, inplace = True)"
   ]
  },
  {
   "cell_type": "markdown",
   "metadata": {},
   "source": [
    "Выбросим также другие колонки, отвечающие за признаки, не несущие информации для данного исследования. "
   ]
  },
  {
   "cell_type": "markdown",
   "metadata": {},
   "source": [
    "gender - пол,  \n",
    "\n",
    "visiting Wuhan - индикатор, посещал ли человек Ухань\n",
    "\n",
    "колока age - возраст,  \n",
    "\n",
    "from Wuhan - индикатор, является ли человек жителем Ухани\n",
    "\n",
    "death - индикатор, умер ли зараженный, \n",
    "\n",
    "recovered - индикатор, выздоровел ли зараженный\n",
    "\n",
    "reporting date - когда стало известно о случае заражения\n",
    "\n",
    "case_in_country - какой по счету случай заражения в стране\n",
    "\n",
    "location - место инфицирования в стране\n",
    "\n",
    "hosp_visit_date - дата посещения зараженным больницы"
   ]
  },
  {
   "cell_type": "code",
   "execution_count": 7,
   "metadata": {},
   "outputs": [],
   "source": [
    "data.drop(['gender', 'age', 'visiting Wuhan', 'from Wuhan', 'death', 'recovered', \n",
    "          'reporting date', 'case_in_country', 'location', 'hosp_visit_date'], axis = 1, inplace = True)"
   ]
  },
  {
   "cell_type": "code",
   "execution_count": 8,
   "metadata": {},
   "outputs": [
    {
     "data": {
      "text/html": [
       "<div>\n",
       "<style scoped>\n",
       "    .dataframe tbody tr th:only-of-type {\n",
       "        vertical-align: middle;\n",
       "    }\n",
       "\n",
       "    .dataframe tbody tr th {\n",
       "        vertical-align: top;\n",
       "    }\n",
       "\n",
       "    .dataframe thead th {\n",
       "        text-align: right;\n",
       "    }\n",
       "</style>\n",
       "<table border=\"1\" class=\"dataframe\">\n",
       "  <thead>\n",
       "    <tr style=\"text-align: right;\">\n",
       "      <th></th>\n",
       "      <th>country</th>\n",
       "      <th>symptom_onset</th>\n",
       "      <th>exposure_start</th>\n",
       "      <th>exposure_end</th>\n",
       "      <th>symptom</th>\n",
       "    </tr>\n",
       "  </thead>\n",
       "  <tbody>\n",
       "    <tr>\n",
       "      <th>0</th>\n",
       "      <td>China</td>\n",
       "      <td>01/03/20</td>\n",
       "      <td>12/29/2019</td>\n",
       "      <td>01/04/20</td>\n",
       "      <td>NaN</td>\n",
       "    </tr>\n",
       "    <tr>\n",
       "      <th>1</th>\n",
       "      <td>China</td>\n",
       "      <td>1/15/2020</td>\n",
       "      <td>NaN</td>\n",
       "      <td>01/12/20</td>\n",
       "      <td>NaN</td>\n",
       "    </tr>\n",
       "    <tr>\n",
       "      <th>2</th>\n",
       "      <td>China</td>\n",
       "      <td>01/04/20</td>\n",
       "      <td>NaN</td>\n",
       "      <td>01/03/20</td>\n",
       "      <td>NaN</td>\n",
       "    </tr>\n",
       "    <tr>\n",
       "      <th>3</th>\n",
       "      <td>China</td>\n",
       "      <td>NaN</td>\n",
       "      <td>NaN</td>\n",
       "      <td>NaN</td>\n",
       "      <td>NaN</td>\n",
       "    </tr>\n",
       "    <tr>\n",
       "      <th>4</th>\n",
       "      <td>China</td>\n",
       "      <td>NaN</td>\n",
       "      <td>NaN</td>\n",
       "      <td>NaN</td>\n",
       "      <td>NaN</td>\n",
       "    </tr>\n",
       "  </tbody>\n",
       "</table>\n",
       "</div>"
      ],
      "text/plain": [
       "  country symptom_onset exposure_start exposure_end symptom\n",
       "0   China      01/03/20     12/29/2019     01/04/20     NaN\n",
       "1   China     1/15/2020            NaN     01/12/20     NaN\n",
       "2   China      01/04/20            NaN     01/03/20     NaN\n",
       "3   China           NaN            NaN          NaN     NaN\n",
       "4   China           NaN            NaN          NaN     NaN"
      ]
     },
     "execution_count": 8,
     "metadata": {},
     "output_type": "execute_result"
    }
   ],
   "source": [
    "data.head()"
   ]
  },
  {
   "cell_type": "markdown",
   "metadata": {},
   "source": [
    "country - страна\n",
    "\n",
    "symptom_onset - дата проявления первых симптомов\n",
    "\n",
    "exposure_start - дата начала контакта человека с инфицированным\n",
    "\n",
    "exposure_end - дата конца контакта человека с инфицированным\n",
    "\n",
    "symptom - симптомы"
   ]
  },
  {
   "cell_type": "code",
   "execution_count": 9,
   "metadata": {},
   "outputs": [
    {
     "name": "stdout",
     "output_type": "stream",
     "text": [
      "<class 'pandas.core.frame.DataFrame'>\n",
      "RangeIndex: 1085 entries, 0 to 1084\n",
      "Data columns (total 5 columns):\n",
      " #   Column          Non-Null Count  Dtype \n",
      "---  ------          --------------  ----- \n",
      " 0   country         1085 non-null   object\n",
      " 1   symptom_onset   563 non-null    object\n",
      " 2   exposure_start  128 non-null    object\n",
      " 3   exposure_end    341 non-null    object\n",
      " 4   symptom         270 non-null    object\n",
      "dtypes: object(5)\n",
      "memory usage: 42.5+ KB\n"
     ]
    }
   ],
   "source": [
    "data.info()"
   ]
  },
  {
   "cell_type": "markdown",
   "metadata": {},
   "source": [
    "###### Посчитаем инкубационный период"
   ]
  },
  {
   "cell_type": "code",
   "execution_count": 10,
   "metadata": {},
   "outputs": [],
   "source": [
    "from datetime import datetime\n",
    "\n",
    "def to_date(date):\n",
    "    if len(date.split('/')[-1])==2:\n",
    "        return datetime.strptime(date, '%m/%d/%y').date()\n",
    "    return datetime.strptime(date, '%m/%d/%Y').date()\n",
    "\n",
    "def numOfDays(date1, date2): \n",
    "    return (to_date(date2)-to_date(date1)).days \n",
    "\n",
    "def IncubationPeriod(row, m):\n",
    "    if type(row['exposure_end']) == str and type(row['symptom_onset']) == str:\n",
    "        nD = numOfDays(row['exposure_end'], row['symptom_onset'])\n",
    "        if nD >= 0:\n",
    "            return nD + m\n",
    "    elif type(row['exposure_start']) == str  and type(row['symptom_onset']) == str:\n",
    "        return numOfDays(row['exposure_start'], row['symptom_onset']) - m\n",
    "    return None\n",
    "\n",
    "def CalculateIncubationPeriod(data):\n",
    "    deltaDays = np.array(\n",
    "        [numOfDays(row['exposure_start'], row['exposure_end']) \n",
    "                     for row in data.iloc\n",
    "                     if type(row['exposure_start']) == str \n",
    "                     and type(row['exposure_end']) == str ])\n",
    "    median = np.median(deltaDays)\n",
    "    return np.array([IncubationPeriod(row, median) for row in data.iloc])\n",
    "\n",
    "data['incubation_period'] = CalculateIncubationPeriod(data)"
   ]
  },
  {
   "cell_type": "markdown",
   "metadata": {},
   "source": [
    "##### Выделим восточные страны"
   ]
  },
  {
   "cell_type": "code",
   "execution_count": 11,
   "metadata": {},
   "outputs": [],
   "source": [
    "east = ['Afghanistan', 'Australia', 'Cambodia', 'China', \n",
    "        'Hong Kong', 'India', 'Japan', 'Malaysia',\n",
    "       'Nepal', 'Phillipines', 'Singapore', 'South Korea', \n",
    "        'Sri Lanka', 'Taiwan', 'Thailand', 'Vietnam', 'Bahrain', \n",
    "        'Iran', 'Israel', 'Kuwait', 'Lebanon', 'UAE']\n",
    "east_data = data[data['country'].isin(east)]"
   ]
  },
  {
   "cell_type": "code",
   "execution_count": 12,
   "metadata": {},
   "outputs": [],
   "source": [
    "IncubationOther = east_data[(east_data['country'] != 'China') & (east_data['country'] != 'Hong Kong')]['incubation_period'].dropna().values.astype(float)\n",
    "IncubationChina = east_data[(east_data['country'] == 'China') | (east_data['country'] == 'Hong Kong')]['incubation_period'].dropna().values.astype(float)"
   ]
  },
  {
   "cell_type": "code",
   "execution_count": 13,
   "metadata": {},
   "outputs": [],
   "source": [
    "def parse(element):\n",
    "    bad = \"\\\\,\"\n",
    "    for c in bad:\n",
    "        element = element.replace(c, \"\")\n",
    "    return element\n",
    "\n",
    "def plot_symptoms(data_symptom, ax):\n",
    "    temp = [a.split(' ') for a in data_symptom]\n",
    "    unique_symptoms = dict()\n",
    "    total_count = data_symptom.shape[0]\n",
    "    for element  in temp:\n",
    "        for symptom in element:\n",
    "            if parse(symptom) not in unique_symptoms:\n",
    "                unique_symptoms[parse(symptom)] = 0\n",
    "            else:\n",
    "                unique_symptoms[parse(symptom)] += 1\n",
    "    symptoms = []\n",
    "    counts = []\n",
    "    for symptom in unique_symptoms:\n",
    "        if unique_symptoms[symptom] > total_count / 20:\n",
    "            symptoms.append(symptom)\n",
    "            counts.append(unique_symptoms[symptom])\n",
    "    ax.bar(symptoms, counts)\n",
    "    plt.show()"
   ]
  },
  {
   "cell_type": "markdown",
   "metadata": {},
   "source": [
    "####  Выделим информацию, необходимую для временного ряда"
   ]
  },
  {
   "cell_type": "code",
   "execution_count": 14,
   "metadata": {},
   "outputs": [],
   "source": [
    "data_series = pd.read_csv(\"time_series_covid_19_confirmed.csv\")\n",
    "data_series = data_series.fillna('unknow')\n",
    "data_series = data_series[data_series['Country/Region'].isin(east)]\n",
    "data_series = data_series.append(data_series.sum(numeric_only=True), ignore_index=True)\n",
    "data_series = data_series.iloc[- 1][4:data_series.shape[1]]\n",
    "for i in reversed(range(1, data_series.shape[0])):\n",
    "    data_series[i] -= data_series[i - 1]"
   ]
  },
  {
   "cell_type": "code",
   "execution_count": 15,
   "metadata": {},
   "outputs": [],
   "source": [
    "data_series_train = data_series[223:284]\n",
    "data_series_test = data_series[284:]"
   ]
  },
  {
   "cell_type": "markdown",
   "metadata": {},
   "source": [
    "### Визуальный анализ данных"
   ]
  },
  {
   "cell_type": "markdown",
   "metadata": {},
   "source": [
    "Посмотрим на гистограмму симптомов, чтобы иметь некоторое представление о том, какие из них все же встречаются чаще."
   ]
  },
  {
   "cell_type": "code",
   "execution_count": 16,
   "metadata": {},
   "outputs": [
    {
     "data": {
      "image/png": "[encoded data removed]",
      "text/plain": [
       "<Figure size 432x288 with 1 Axes>"
      ]
     },
     "metadata": {
      "needs_background": "light"
     },
     "output_type": "display_data"
    }
   ],
   "source": [
    "ax = plt.subplot()\n",
    "plot_symptoms(data['symptom'].dropna(), ax, )"
   ]
  },
  {
   "cell_type": "markdown",
   "metadata": {},
   "source": [
    "Таким образом, судя по нашей выборке, основными симптомами заболевания являются температуру, кашель, боль в горле,  общие недомогания. Остальные симптомы встречаются у менее чем 5 % выборки."
   ]
  },
  {
   "cell_type": "markdown",
   "metadata": {},
   "source": [
    "Построим гистограммы распределений инкубационного периода в Китае и остальных странах Азии."
   ]
  },
  {
   "cell_type": "code",
   "execution_count": 17,
   "metadata": {},
   "outputs": [],
   "source": [
    "def plot_distr(gen_pop):\n",
    "    x = np.linspace(gen_pop.min(), gen_pop.max(), 100)\n",
    "    mean = gen_pop.mean()\n",
    "    std = gen_pop.std()\n",
    "    theta = std / mean\n",
    "    k = mean / theta\n",
    "    y_pdf = stats.chi2.pdf(x, mean)\n",
    "    y_cdf = stats.chi2.cdf(x, mean)\n",
    "\n",
    "    ax1 = plt.subplot(121)\n",
    "    plt.hist(gen_pop, 30, alpha=0.5)\n",
    "    plt.twinx()\n",
    "    plt.plot(x, y_pdf, label='pdf', color = 'b')\n",
    "    plt.legend()\n",
    "\n",
    "    ax2 = plt.subplot(122)\n",
    "    plt.plot(x, y_cdf, label='cdf', color = 'r')\n",
    "    plt.twinx()\n",
    "    plt.plot(x, y_pdf, label='pdf', color = 'b')\n",
    "    plt.legend()"
   ]
  },
  {
   "cell_type": "code",
   "execution_count": 18,
   "metadata": {},
   "outputs": [
    {
     "data": {
      "image/png": "[encoded data removed]",
      "text/plain": [
       "<Figure size 432x288 with 4 Axes>"
      ]
     },
     "metadata": {
      "needs_background": "light"
     },
     "output_type": "display_data"
    }
   ],
   "source": [
    "plot_distr(IncubationOther)"
   ]
  },
  {
   "cell_type": "code",
   "execution_count": 19,
   "metadata": {},
   "outputs": [
    {
     "data": {
      "image/png": "[encoded data removed]",
      "text/plain": [
       "<Figure size 432x288 with 4 Axes>"
      ]
     },
     "metadata": {
      "needs_background": "light"
     },
     "output_type": "display_data"
    }
   ],
   "source": [
    "plot_distr(IncubationChina)"
   ]
  },
  {
   "cell_type": "code",
   "execution_count": 20,
   "metadata": {},
   "outputs": [
    {
     "data": {
      "image/png": "[encoded data removed]",
      "text/plain": [
       "<Figure size 432x288 with 1 Axes>"
      ]
     },
     "metadata": {
      "needs_background": "light"
     },
     "output_type": "display_data"
    }
   ],
   "source": [
    "stats.probplot(IncubationOther, dist = stats.chi2(np.mean(IncubationOther)), plot = plt)\n",
    "plt.show()"
   ]
  },
  {
   "cell_type": "code",
   "execution_count": 21,
   "metadata": {},
   "outputs": [
    {
     "data": {
      "image/png": "[encoded data removed]",
      "text/plain": [
       "<Figure size 432x288 with 1 Axes>"
      ]
     },
     "metadata": {
      "needs_background": "light"
     },
     "output_type": "display_data"
    }
   ],
   "source": [
    "stats.probplot(IncubationChina, dist = stats.chi2(np.mean(IncubationChina)), plot = plt)\n",
    "plt.show()"
   ]
  },
  {
   "cell_type": "markdown",
   "metadata": {},
   "source": [
    "Одно из них похоже на хи-квадрат, второе не очень. Однако, соответствующие гипотезы надо проверить, также это наталкивает на мысль, что инкубационные периоды не являются одинаковыми для всех стран."
   ]
  },
  {
   "cell_type": "markdown",
   "metadata": {},
   "source": [
    "### Проверка статистических гипотез"
   ]
  },
  {
   "cell_type": "markdown",
   "metadata": {},
   "source": [
    "##### Гипотеза 1: \n",
    "выборка, состоящая из интересующих нас инкубационных периодов является нормальной (скорее всего нет, но на всякий случай проверим это)"
   ]
  },
  {
   "cell_type": "markdown",
   "metadata": {},
   "source": [
    "H0: выборка является нормальной.\n",
    "\n",
    "H1: выборка не является нормальной.\n",
    "\n",
    "p-value: 0.05"
   ]
  },
  {
   "cell_type": "code",
   "execution_count": 22,
   "metadata": {},
   "outputs": [
    {
     "data": {
      "text/plain": [
       "ShapiroResult(statistic=0.7643207311630249, pvalue=1.2484420164327048e-09)"
      ]
     },
     "execution_count": 22,
     "metadata": {},
     "output_type": "execute_result"
    }
   ],
   "source": [
    "stats.shapiro(IncubationOther)"
   ]
  },
  {
   "cell_type": "markdown",
   "metadata": {},
   "source": [
    "H0: выборка является нормальной.\n",
    "\n",
    "H1: выборка не является нормальной.\n",
    "\n",
    "p-value: 0.05"
   ]
  },
  {
   "cell_type": "code",
   "execution_count": 23,
   "metadata": {},
   "outputs": [
    {
     "data": {
      "text/plain": [
       "ShapiroResult(statistic=0.8424878120422363, pvalue=5.2291856178499074e-08)"
      ]
     },
     "execution_count": 23,
     "metadata": {},
     "output_type": "execute_result"
    }
   ],
   "source": [
    "stats.shapiro(IncubationChina)"
   ]
  },
  {
   "cell_type": "markdown",
   "metadata": {},
   "source": [
    "#### Вывод:\n",
    "Таким образом, наши выборки не являются нормальными, впрочем это было вполне себе ожидаемо."
   ]
  },
  {
   "cell_type": "markdown",
   "metadata": {},
   "source": [
    "#### Гипотеза 2:\n",
    "выборка принаделжит распределению хи-квадрат или гамма распределнию с соответствующими параметрами"
   ]
  },
  {
   "cell_type": "markdown",
   "metadata": {},
   "source": [
    "H0: выборка принаделжит распределению хи-квадрат.\n",
    "\n",
    "H1: выборка не принаделжит распределению хи-квадрат.\n",
    "\n",
    "p-value: 0.05"
   ]
  },
  {
   "cell_type": "code",
   "execution_count": 24,
   "metadata": {},
   "outputs": [
    {
     "data": {
      "text/plain": [
       "KstestResult(statistic=0.12652374804328032, pvalue=0.16617866548217938)"
      ]
     },
     "execution_count": 24,
     "metadata": {},
     "output_type": "execute_result"
    }
   ],
   "source": [
    "kstest(IncubationOther, 'gamma', args=(np.mean(IncubationOther)/2, 0, 2))"
   ]
  },
  {
   "cell_type": "markdown",
   "metadata": {},
   "source": [
    "H0: выборка принаделжит распределению хи-квадрат.\n",
    "\n",
    "H1: выборка не принаделжит распределению хи-квадрат.\n",
    "\n",
    "p-value: 0.05"
   ]
  },
  {
   "cell_type": "code",
   "execution_count": 25,
   "metadata": {},
   "outputs": [
    {
     "data": {
      "text/plain": [
       "KstestResult(statistic=0.20004837104606782, pvalue=0.0020135126316239258)"
      ]
     },
     "execution_count": 25,
     "metadata": {},
     "output_type": "execute_result"
    }
   ],
   "source": [
    "kstest(IncubationChina, 'gamma', args=(np.mean(IncubationChina)/2, 0, 2))"
   ]
  },
  {
   "cell_type": "markdown",
   "metadata": {},
   "source": [
    "#### Вывод:\n",
    "\n",
    "Выходит, одна из выборок принадлежит распределению хи-квадрат, а вторая нет, что наталкивает на мысль, что выборки взяты из различных распределний."
   ]
  },
  {
   "cell_type": "markdown",
   "metadata": {},
   "source": [
    "#### Гипотеза 3:\n",
    "Выборки принадлажат одному распределению (убедимся навярянка что это не так)"
   ]
  },
  {
   "cell_type": "markdown",
   "metadata": {},
   "source": [
    "H0: выборки принаделжат одному распределению.\n",
    "\n",
    "H1: выборки принаделжат одному распределению.\n",
    "\n",
    "p-value: 0.05"
   ]
  },
  {
   "cell_type": "code",
   "execution_count": 26,
   "metadata": {},
   "outputs": [
    {
     "data": {
      "text/plain": [
       "RanksumsResult(statistic=2.2220111010823804, pvalue=0.026282555391118637)"
      ]
     },
     "execution_count": 26,
     "metadata": {},
     "output_type": "execute_result"
    }
   ],
   "source": [
    "stats.ranksums(IncubationOther, IncubationChina)"
   ]
  },
  {
   "cell_type": "markdown",
   "metadata": {},
   "source": [
    "на самом деле p_value хоть и меньше 0.05 но не самый маленький, проверим равенство средних выборок."
   ]
  },
  {
   "cell_type": "code",
   "execution_count": 27,
   "metadata": {},
   "outputs": [
    {
     "name": "stdout",
     "output_type": "stream",
     "text": [
      "3.9248655638254646\n"
     ]
    }
   ],
   "source": [
    "delta  = (np.mean(IncubationOther) - np.mean(IncubationChina)) / (np.std(IncubationOther) ** 2 / IncubationOther.shape[0]+ np.std(IncubationChina) ** 2 / IncubationChina.shape[0])\n",
    "print(delta)"
   ]
  },
  {
   "cell_type": "markdown",
   "metadata": {},
   "source": [
    "Данная статистика асимпототически принадлежит стандартному нормальному распределению, значит должна попадать в доверительный интервал. Данное значение не входит в его доверительный интервал, значит можем еще более увренно отвергнуть гипотезу о равенстве средних, а значит и о однородности выборок"
   ]
  },
  {
   "cell_type": "markdown",
   "metadata": {},
   "source": [
    "### 5. Предсказание временного ряда."
   ]
  },
  {
   "cell_type": "code",
   "execution_count": 28,
   "metadata": {},
   "outputs": [],
   "source": [
    "def arima_model(X, p, d, q):\n",
    "    X = X.astype('float32')\n",
    "    size = len(X) // 2\n",
    "    train, test = X[0:size], X[size:]\n",
    "    train = train.tolist()\n",
    "    predictions = list()\n",
    "    for t in range(test.shape[0]):\n",
    "        model = ARIMA(train, order=(p, d, q))\n",
    "        model_fit = model.fit(disp=0)\n",
    "        predictions.append(model_fit.forecast()[0])\n",
    "        train.append(test[t])\n",
    "    return sqrt(mean_squared_error(test, predictions))\n",
    "\n",
    "def chose_model(data, p_values, d_values, q_values):\n",
    "    data = data.astype('float32')\n",
    "    rmse_res = np.inf\n",
    "    p_res = 0\n",
    "    d_res = 0\n",
    "    q_res = 0\n",
    "    for p in p_values:\n",
    "        for d in d_values:\n",
    "            for q in q_values:\n",
    "                try:\n",
    "                    rmse = arima_model(data, p, d, q)\n",
    "                    if rmse < rmse_res:\n",
    "                        rmse_res = rmse\n",
    "                        p_res = p\n",
    "                        d_res = d\n",
    "                        q_res = q\n",
    "                    print('RMSE = ', rmse , ' q =', q, ' d =', d, ' p =', p)\n",
    "                except:\n",
    "                    print('bad config: q= ', q, ' d =', d, ' p =', p)\n",
    "                    continue\n",
    "    print('BEST RMSE = ', rmse_res , ' q =', q_res, ' d =', d_res, ' p =', p_res)"
   ]
  },
  {
   "cell_type": "code",
   "execution_count": 29,
   "metadata": {},
   "outputs": [
    {
     "name": "stdout",
     "output_type": "stream",
     "text": [
      "RMSE =  20923.08957391522  q = 0  d = 0  p = 0\n",
      "RMSE =  12472.187817577673  q = 1  d = 0  p = 0\n",
      "RMSE =  9857.17280485981  q = 2  d = 0  p = 0\n",
      "RMSE =  9759.02971498075  q = 3  d = 0  p = 0\n",
      "RMSE =  8500.506566610826  q = 4  d = 0  p = 0\n",
      "RMSE =  6197.945044591399  q = 0  d = 1  p = 0\n",
      "RMSE =  6384.303185465183  q = 1  d = 1  p = 0\n",
      "RMSE =  5904.0318083929  q = 2  d = 1  p = 0\n",
      "RMSE =  6094.655822656478  q = 3  d = 1  p = 0\n",
      "bad config: q=  4  d = 1  p = 0\n",
      "RMSE =  8855.911614062294  q = 0  d = 2  p = 0\n",
      "bad config: q=  1  d = 2  p = 0\n",
      "bad config: q=  2  d = 2  p = 0\n",
      "RMSE =  6047.182517785094  q = 3  d = 2  p = 0\n",
      "RMSE =  5881.652720140524  q = 4  d = 2  p = 0\n",
      "bad config: q=  0  d = 3  p = 0\n",
      "bad config: q=  1  d = 3  p = 0\n",
      "bad config: q=  2  d = 3  p = 0\n",
      "bad config: q=  3  d = 3  p = 0\n",
      "bad config: q=  4  d = 3  p = 0\n",
      "bad config: q=  0  d = 4  p = 0\n",
      "bad config: q=  1  d = 4  p = 0\n",
      "bad config: q=  2  d = 4  p = 0\n",
      "bad config: q=  3  d = 4  p = 0\n",
      "bad config: q=  4  d = 4  p = 0\n",
      "RMSE =  7173.9705517390275  q = 0  d = 0  p = 1\n",
      "RMSE =  7394.980616355496  q = 1  d = 0  p = 1\n",
      "RMSE =  6819.001362093037  q = 2  d = 0  p = 1\n",
      "bad config: q=  3  d = 0  p = 1\n",
      "bad config: q=  4  d = 0  p = 1\n",
      "RMSE =  6266.911951914921  q = 0  d = 1  p = 1\n",
      "bad config: q=  1  d = 1  p = 1\n",
      "bad config: q=  2  d = 1  p = 1\n",
      "bad config: q=  3  d = 1  p = 1\n",
      "bad config: q=  4  d = 1  p = 1\n",
      "RMSE =  8535.074737809317  q = 0  d = 2  p = 1\n",
      "bad config: q=  1  d = 2  p = 1\n",
      "bad config: q=  2  d = 2  p = 1\n",
      "bad config: q=  3  d = 2  p = 1\n",
      "bad config: q=  4  d = 2  p = 1\n",
      "bad config: q=  0  d = 3  p = 1\n",
      "bad config: q=  1  d = 3  p = 1\n",
      "bad config: q=  2  d = 3  p = 1\n",
      "bad config: q=  3  d = 3  p = 1\n",
      "bad config: q=  4  d = 3  p = 1\n",
      "bad config: q=  0  d = 4  p = 1\n",
      "bad config: q=  1  d = 4  p = 1\n",
      "bad config: q=  2  d = 4  p = 1\n",
      "bad config: q=  3  d = 4  p = 1\n",
      "bad config: q=  4  d = 4  p = 1\n",
      "RMSE =  7476.439675757233  q = 0  d = 0  p = 2\n",
      "bad config: q=  1  d = 0  p = 2\n",
      "RMSE =  6885.032015438737  q = 2  d = 0  p = 2\n",
      "bad config: q=  3  d = 0  p = 2\n",
      "bad config: q=  4  d = 0  p = 2\n",
      "RMSE =  6019.62874500152  q = 0  d = 1  p = 2\n",
      "RMSE =  5844.4628786562935  q = 1  d = 1  p = 2\n",
      "bad config: q=  2  d = 1  p = 2\n",
      "bad config: q=  3  d = 1  p = 2\n",
      "bad config: q=  4  d = 1  p = 2\n",
      "RMSE =  7633.9131879847855  q = 0  d = 2  p = 2\n",
      "bad config: q=  1  d = 2  p = 2\n",
      "bad config: q=  2  d = 2  p = 2\n",
      "bad config: q=  3  d = 2  p = 2\n",
      "bad config: q=  4  d = 2  p = 2\n",
      "bad config: q=  0  d = 3  p = 2\n",
      "bad config: q=  1  d = 3  p = 2\n",
      "bad config: q=  2  d = 3  p = 2\n",
      "bad config: q=  3  d = 3  p = 2\n",
      "bad config: q=  4  d = 3  p = 2\n",
      "bad config: q=  0  d = 4  p = 2\n",
      "bad config: q=  1  d = 4  p = 2\n",
      "bad config: q=  2  d = 4  p = 2\n",
      "bad config: q=  3  d = 4  p = 2\n",
      "bad config: q=  4  d = 4  p = 2\n",
      "RMSE =  7074.380208272933  q = 0  d = 0  p = 3\n",
      "bad config: q=  1  d = 0  p = 3\n",
      "bad config: q=  2  d = 0  p = 3\n",
      "bad config: q=  3  d = 0  p = 3\n",
      "bad config: q=  4  d = 0  p = 3\n",
      "RMSE =  6094.265042692196  q = 0  d = 1  p = 3\n",
      "bad config: q=  1  d = 1  p = 3\n",
      "bad config: q=  2  d = 1  p = 3\n",
      "bad config: q=  3  d = 1  p = 3\n",
      "bad config: q=  4  d = 1  p = 3\n",
      "RMSE =  7528.423011057101  q = 0  d = 2  p = 3\n",
      "bad config: q=  1  d = 2  p = 3\n",
      "bad config: q=  2  d = 2  p = 3\n",
      "bad config: q=  3  d = 2  p = 3\n",
      "bad config: q=  4  d = 2  p = 3\n",
      "bad config: q=  0  d = 3  p = 3\n",
      "bad config: q=  1  d = 3  p = 3\n",
      "bad config: q=  2  d = 3  p = 3\n",
      "bad config: q=  3  d = 3  p = 3\n",
      "bad config: q=  4  d = 3  p = 3\n",
      "bad config: q=  0  d = 4  p = 3\n",
      "bad config: q=  1  d = 4  p = 3\n",
      "bad config: q=  2  d = 4  p = 3\n",
      "bad config: q=  3  d = 4  p = 3\n",
      "bad config: q=  4  d = 4  p = 3\n",
      "RMSE =  7041.746250982684  q = 0  d = 0  p = 4\n",
      "RMSE =  6873.336782257688  q = 1  d = 0  p = 4\n",
      "bad config: q=  2  d = 0  p = 4\n",
      "bad config: q=  3  d = 0  p = 4\n",
      "bad config: q=  4  d = 0  p = 4\n",
      "RMSE =  5917.861909539147  q = 0  d = 1  p = 4\n",
      "RMSE =  5624.284421732925  q = 1  d = 1  p = 4\n",
      "bad config: q=  2  d = 1  p = 4\n",
      "bad config: q=  3  d = 1  p = 4\n",
      "bad config: q=  4  d = 1  p = 4\n",
      "RMSE =  7500.32044866893  q = 0  d = 2  p = 4\n",
      "bad config: q=  1  d = 2  p = 4\n",
      "bad config: q=  2  d = 2  p = 4\n",
      "bad config: q=  3  d = 2  p = 4\n",
      "bad config: q=  4  d = 2  p = 4\n",
      "bad config: q=  0  d = 3  p = 4\n",
      "bad config: q=  1  d = 3  p = 4\n",
      "bad config: q=  2  d = 3  p = 4\n",
      "bad config: q=  3  d = 3  p = 4\n",
      "bad config: q=  4  d = 3  p = 4\n",
      "bad config: q=  0  d = 4  p = 4\n",
      "bad config: q=  1  d = 4  p = 4\n",
      "bad config: q=  2  d = 4  p = 4\n",
      "bad config: q=  3  d = 4  p = 4\n",
      "bad config: q=  4  d = 4  p = 4\n",
      "BEST RMSE =  5624.284421732925  q = 1  d = 1  p = 4\n"
     ]
    }
   ],
   "source": [
    "p_values = range(0, 5)\n",
    "d_values = range(0, 5)\n",
    "q_values = range(0, 5)\n",
    "warnings.filterwarnings(\"ignore\")\n",
    "chose_model(data_series_train.values, p_values, d_values, q_values)"
   ]
  },
  {
   "cell_type": "code",
   "execution_count": 30,
   "metadata": {},
   "outputs": [
    {
     "data": {
      "image/png": "[encoded data removed]",
      "text/plain": [
       "<Figure size 432x288 with 1 Axes>"
      ]
     },
     "metadata": {
      "needs_background": "light"
     },
     "output_type": "display_data"
    },
    {
     "name": "stdout",
     "output_type": "stream",
     "text": [
      "Result RMSE:  4491.9873426690965\n"
     ]
    }
   ],
   "source": [
    "train, test = data_series_train.values, data_series_test.values\n",
    "predictions = list()\n",
    "train = data_series_train.tolist()\n",
    "for i in range(test.shape[0]):\n",
    "    model = ARIMA(train, order=(4, 1, 1))\n",
    "    model_fit = model.fit(disp=0)\n",
    "    predictions.append(model_fit.forecast()[0])\n",
    "    train.append(test[i])\n",
    "errors = pd.DataFrame([test[i]-predictions[i] for i in range(test.shape[0])])\n",
    "errors.plot(kind='kde', ax=plt.gca())\n",
    "plt.show()\n",
    "print('Result RMSE: ', sqrt(mean_squared_error(test, predictions)))"
   ]
  },
  {
   "cell_type": "markdown",
   "metadata": {},
   "source": [
    "## Вывод"
   ]
  },
  {
   "cell_type": "markdown",
   "metadata": {},
   "source": [
    "1. В небольшой гистограмме симптомов ничего удивительного обнаружено не было - самыми популярными как и ожидалсь являюстя температура, кашель, боль в горле и общее недомогание.\n",
    "\n",
    "2. С инкубационным периодом дело обстоит интереснее. Изначально мне казалось, что у болезни должен быть один и тот же, независимо от страны. Однако, исследование показало другой результат, в Китае и в остальных восточных странах инкубационные периоды имеют разные распределения. Выходит, необходимо, с большой осторожностью относится к данным об инкубационных периодах - ведь, как показало исследование, они могут быть разными.\n",
    "\n",
    "3. Распределение инкубационного периода остальных восточных стран - хи-квадрат\n",
    "\n",
    "4. Построен временной ряд, предсказывающий количество новых инфицированных пациентов в день."
   ]
  }
 ],
 "metadata": {
  "kernelspec": {
   "display_name": "Python 3",
   "language": "python",
   "name": "python3"
  },
  "language_info": {
   "codemirror_mode": {
    "name": "ipython",
    "version": 3
   },
   "file_extension": ".py",
   "mimetype": "text/x-python",
   "name": "python",
   "nbconvert_exporter": "python",
   "pygments_lexer": "ipython3",
   "version": "3.9.1"
  }
 },
 "nbformat": 4,
 "nbformat_minor": 2
}
